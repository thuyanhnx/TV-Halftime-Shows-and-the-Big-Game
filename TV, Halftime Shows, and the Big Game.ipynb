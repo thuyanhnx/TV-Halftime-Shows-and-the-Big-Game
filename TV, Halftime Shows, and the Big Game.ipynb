{
 "cells": [
  {
   "cell_type": "markdown",
   "id": "0bca4cd8",
   "metadata": {},
   "source": [
    "# TV, halftime shows, and the Big Game\n",
    "Whether or not you like football, the Super Bowl is a spectacle. There's drama in the form of blowouts, comebacks, and controversy in the games themselves. There are the ridiculously expensive ads, some hilarious, others gut-wrenching, thought-provoking, and weird. The halftime shows with the biggest musicians in the world, sometimes riding a giant mechanical tiger or leaping from the roof of the stadium.\n",
    "\n",
    "In this project, you will find out how some of the elements interact with each other.\n",
    "\n",
    " - What are the most extreme game outcomes?\n",
    " - How does point difference affect television viewership?\n",
    " - How have viewership, TV ratings, and advertisement costs evolved?\n",
    " - Who are the most prolific musicians in terms of halftime show performances?\n",
    "\n",
    "The dataset used in this Project was scraped and polished from Wikipedia. It is made up of three CSV files, one with game data, one with TV data, and one with halftime musician data for all 52 Super Bowls through 2018.\n",
    "## 1. Introduction\n",
    "<p>Whether or not you like American football, the Super Bowl is a spectacle. There is always a little something for everyone. For the die-hard fans, there is the game itself with blowouts, comebacks, and controversy. For the not so die-hard fans, there are the ridiculously expensive ads that are hilarious, gut-wrenching, thought-provoking, and sometimes weird. And of course, there are the halftime shows with the biggest musicians in the world entertaining us by <a href=\"https://youtu.be/ZD1QrIe--_Y?t=14\">riding a giant mechanical tiger</a> or <a href=\"https://youtu.be/mjrdywp5nyE?t=62\">leaping from the roof of the stadium</a>. It is a grand show! In this notebook, we're going to explore how some of these elements interact with each other. After exploring and cleaning the data, we're going to answer questions like:</p>\n",
    "<ul>\n",
    "<li>What are the most extreme game outcomes?</li>\n",
    "<li>How does the score difference affect television viewership?</li>\n",
    "<li>How have viewership, TV ratings, and advertisement costs evolved?</li>\n",
    "<li>Who are the most prolific musicians in terms of halftime show performances?</li>\n",
    "</ul>\n",
    "<p><img src=\"https://assets.datacamp.com/production/project_691/img/left_shark.jpg\" alt=\"Left Shark Steals The Show\">\n",
    "<em><a href=\"https://www.flickr.com/photos/huntleypaton/16464994135/in/photostream/\">Left Shark Steals The Show</a>. Katy Perry performing at halftime of Super Bowl XLIX. Photo by Huntley Paton. Attribution-ShareAlike 2.0 Generic (CC BY-SA 2.0).</em></p>\n",
    "<p>The dataset we'll use was <a href=\"https://en.wikipedia.org/wiki/Web_scraping\">scraped</a> and polished from Wikipedia. It is made up of three CSV files, one with <a href=\"https://en.wikipedia.org/wiki/List_of_Super_Bowl_champions\">game data</a>, one with <a href=\"https://en.wikipedia.org/wiki/Super_Bowl_television_ratings\">TV data</a>, and one with <a href=\"https://en.wikipedia.org/wiki/List_of_Super_Bowl_halftime_shows\">halftime musician data</a> for all 52 Super Bowls "
   ]
  },
  {
   "cell_type": "code",
   "execution_count": 1,
   "id": "1fb63fd6",
   "metadata": {},
   "outputs": [
    {
     "name": "stderr",
     "output_type": "stream",
     "text": [
      "Registered S3 methods overwritten by 'ggplot2':\n",
      "  method         from \n",
      "  [.quosures     rlang\n",
      "  c.quosures     rlang\n",
      "  print.quosures rlang\n",
      "Registered S3 method overwritten by 'rvest':\n",
      "  method            from\n",
      "  read_xml.response xml2\n",
      "-- Attaching packages --------------------------------------- tidyverse 1.2.1 --\n",
      "v ggplot2 3.1.1       v purrr   0.3.2  \n",
      "v tibble  2.1.1       v dplyr   0.8.0.1\n",
      "v tidyr   0.8.3       v stringr 1.4.0  \n",
      "v readr   1.3.1       v forcats 0.4.0  \n",
      "-- Conflicts ------------------------------------------ tidyverse_conflicts() --\n",
      "x dplyr::filter() masks stats::filter()\n",
      "x dplyr::lag()    masks stats::lag()\n",
      "Parsed with column specification:\n",
      "cols(\n",
      "  date = col_date(format = \"\"),\n",
      "  super_bowl = col_double(),\n",
      "  venue = col_character(),\n",
      "  city = col_character(),\n",
      "  state = col_character(),\n",
      "  attendance = col_double(),\n",
      "  team_winner = col_character(),\n",
      "  winning_pts = col_double(),\n",
      "  qb_winner_1 = col_character(),\n",
      "  qb_winner_2 = col_character(),\n",
      "  coach_winner = col_character(),\n",
      "  team_loser = col_character(),\n",
      "  losing_pts = col_double(),\n",
      "  qb_loser_1 = col_character(),\n",
      "  qb_loser_2 = col_character(),\n",
      "  coach_loser = col_character(),\n",
      "  combined_pts = col_double(),\n",
      "  difference_pts = col_double()\n",
      ")\n",
      "Parsed with column specification:\n",
      "cols(\n",
      "  super_bowl = col_double(),\n",
      "  network = col_character(),\n",
      "  avg_us_viewers = col_double(),\n",
      "  total_us_viewers = col_double(),\n",
      "  rating_household = col_double(),\n",
      "  share_household = col_double(),\n",
      "  rating_18_49 = col_double(),\n",
      "  share_18_49 = col_double(),\n",
      "  ad_cost = col_double()\n",
      ")\n",
      "Parsed with column specification:\n",
      "cols(\n",
      "  super_bowl = col_double(),\n",
      "  musician = col_character(),\n",
      "  num_songs = col_double()\n",
      ")\n"
     ]
    },
    {
     "data": {
      "text/html": [
       "<table>\n",
       "<thead><tr><th scope=col>date</th><th scope=col>super_bowl</th><th scope=col>venue</th><th scope=col>city</th><th scope=col>state</th><th scope=col>attendance</th><th scope=col>team_winner</th><th scope=col>winning_pts</th><th scope=col>qb_winner_1</th><th scope=col>qb_winner_2</th><th scope=col>coach_winner</th><th scope=col>team_loser</th><th scope=col>losing_pts</th><th scope=col>qb_loser_1</th><th scope=col>qb_loser_2</th><th scope=col>coach_loser</th><th scope=col>combined_pts</th><th scope=col>difference_pts</th></tr></thead>\n",
       "<tbody>\n",
       "\t<tr><td>2018-02-04                   </td><td>52                           </td><td>U.S. Bank Stadium            </td><td>Minneapolis                  </td><td>Minnesota                    </td><td>67612                        </td><td>Philadelphia Eagles          </td><td>41                           </td><td>Nick Foles                   </td><td>NA                           </td><td>Doug Pederson                </td><td>New England Patriots         </td><td>33                           </td><td>Tom Brady                    </td><td>NA                           </td><td>Bill Belichick               </td><td>74                           </td><td> 8                           </td></tr>\n",
       "\t<tr><td>2017-02-05                   </td><td>51                           </td><td>NRG Stadium                  </td><td>Houston                      </td><td>Texas                        </td><td>70807                        </td><td>New England Patriots         </td><td>34                           </td><td>Tom Brady                    </td><td>NA                           </td><td>Bill Belichick               </td><td>Atlanta Falcons              </td><td>28                           </td><td>Matt Ryan                    </td><td>NA                           </td><td>Dan Quinn                    </td><td>62                           </td><td> 6                           </td></tr>\n",
       "\t<tr><td>2016-02-07                   </td><td>50                           </td><td>Levi's Stadium               </td><td>Santa Clara                  </td><td>California                   </td><td>71088                        </td><td>Denver Broncos               </td><td>24                           </td><td>Peyton Manning               </td><td>NA                           </td><td>Gary Kubiak                  </td><td>Carolina Panthers            </td><td>10                           </td><td>Cam Newton                   </td><td>NA                           </td><td>Ron Rivera                   </td><td>34                           </td><td>14                           </td></tr>\n",
       "\t<tr><td>2015-02-01                   </td><td>49                           </td><td>University of Phoenix Stadium</td><td>Glendale                     </td><td>Arizona                      </td><td>70288                        </td><td>New England Patriots         </td><td>28                           </td><td>Tom Brady                    </td><td>NA                           </td><td>Bill Belichick               </td><td>Seattle Seahawks             </td><td>24                           </td><td>Russell Wilson               </td><td>NA                           </td><td>Pete Carroll                 </td><td>52                           </td><td> 4                           </td></tr>\n",
       "\t<tr><td>2014-02-02                   </td><td>48                           </td><td>MetLife Stadium              </td><td>East Rutherford              </td><td>New Jersey                   </td><td>82529                        </td><td>Seattle Seahawks             </td><td>43                           </td><td>Russell Wilson               </td><td>NA                           </td><td>Pete Carroll                 </td><td>Denver Broncos               </td><td> 8                           </td><td>Peyton Manning               </td><td>NA                           </td><td>John Fox                     </td><td>51                           </td><td>35                           </td></tr>\n",
       "\t<tr><td>2013-02-03                   </td><td>47                           </td><td>Mercedes-Benz Superdome      </td><td>New Orleans                  </td><td>Louisiana                    </td><td>71024                        </td><td>Baltimore Ravens             </td><td>34                           </td><td>Joe Flacco                   </td><td>NA                           </td><td>John Harbaugh                </td><td>San Francisco 49ers          </td><td>31                           </td><td>Colin Kaepernick             </td><td>NA                           </td><td>Jim Harbaugh                 </td><td>65                           </td><td> 3                           </td></tr>\n",
       "</tbody>\n",
       "</table>\n"
      ],
      "text/latex": [
       "\\begin{tabular}{r|llllllllllllllllll}\n",
       " date & super\\_bowl & venue & city & state & attendance & team\\_winner & winning\\_pts & qb\\_winner\\_1 & qb\\_winner\\_2 & coach\\_winner & team\\_loser & losing\\_pts & qb\\_loser\\_1 & qb\\_loser\\_2 & coach\\_loser & combined\\_pts & difference\\_pts\\\\\n",
       "\\hline\n",
       "\t 2018-02-04                    & 52                            & U.S. Bank Stadium             & Minneapolis                   & Minnesota                     & 67612                         & Philadelphia Eagles           & 41                            & Nick Foles                    & NA                            & Doug Pederson                 & New England Patriots          & 33                            & Tom Brady                     & NA                            & Bill Belichick                & 74                            &  8                           \\\\\n",
       "\t 2017-02-05                    & 51                            & NRG Stadium                   & Houston                       & Texas                         & 70807                         & New England Patriots          & 34                            & Tom Brady                     & NA                            & Bill Belichick                & Atlanta Falcons               & 28                            & Matt Ryan                     & NA                            & Dan Quinn                     & 62                            &  6                           \\\\\n",
       "\t 2016-02-07                    & 50                            & Levi's Stadium                & Santa Clara                   & California                    & 71088                         & Denver Broncos                & 24                            & Peyton Manning                & NA                            & Gary Kubiak                   & Carolina Panthers             & 10                            & Cam Newton                    & NA                            & Ron Rivera                    & 34                            & 14                           \\\\\n",
       "\t 2015-02-01                    & 49                            & University of Phoenix Stadium & Glendale                      & Arizona                       & 70288                         & New England Patriots          & 28                            & Tom Brady                     & NA                            & Bill Belichick                & Seattle Seahawks              & 24                            & Russell Wilson                & NA                            & Pete Carroll                  & 52                            &  4                           \\\\\n",
       "\t 2014-02-02                    & 48                            & MetLife Stadium               & East Rutherford               & New Jersey                    & 82529                         & Seattle Seahawks              & 43                            & Russell Wilson                & NA                            & Pete Carroll                  & Denver Broncos                &  8                            & Peyton Manning                & NA                            & John Fox                      & 51                            & 35                           \\\\\n",
       "\t 2013-02-03                    & 47                            & Mercedes-Benz Superdome       & New Orleans                   & Louisiana                     & 71024                         & Baltimore Ravens              & 34                            & Joe Flacco                    & NA                            & John Harbaugh                 & San Francisco 49ers           & 31                            & Colin Kaepernick              & NA                            & Jim Harbaugh                  & 65                            &  3                           \\\\\n",
       "\\end{tabular}\n"
      ],
      "text/markdown": [
       "\n",
       "| date | super_bowl | venue | city | state | attendance | team_winner | winning_pts | qb_winner_1 | qb_winner_2 | coach_winner | team_loser | losing_pts | qb_loser_1 | qb_loser_2 | coach_loser | combined_pts | difference_pts |\n",
       "|---|---|---|---|---|---|---|---|---|---|---|---|---|---|---|---|---|---|\n",
       "| 2018-02-04                    | 52                            | U.S. Bank Stadium             | Minneapolis                   | Minnesota                     | 67612                         | Philadelphia Eagles           | 41                            | Nick Foles                    | NA                            | Doug Pederson                 | New England Patriots          | 33                            | Tom Brady                     | NA                            | Bill Belichick                | 74                            |  8                            |\n",
       "| 2017-02-05                    | 51                            | NRG Stadium                   | Houston                       | Texas                         | 70807                         | New England Patriots          | 34                            | Tom Brady                     | NA                            | Bill Belichick                | Atlanta Falcons               | 28                            | Matt Ryan                     | NA                            | Dan Quinn                     | 62                            |  6                            |\n",
       "| 2016-02-07                    | 50                            | Levi's Stadium                | Santa Clara                   | California                    | 71088                         | Denver Broncos                | 24                            | Peyton Manning                | NA                            | Gary Kubiak                   | Carolina Panthers             | 10                            | Cam Newton                    | NA                            | Ron Rivera                    | 34                            | 14                            |\n",
       "| 2015-02-01                    | 49                            | University of Phoenix Stadium | Glendale                      | Arizona                       | 70288                         | New England Patriots          | 28                            | Tom Brady                     | NA                            | Bill Belichick                | Seattle Seahawks              | 24                            | Russell Wilson                | NA                            | Pete Carroll                  | 52                            |  4                            |\n",
       "| 2014-02-02                    | 48                            | MetLife Stadium               | East Rutherford               | New Jersey                    | 82529                         | Seattle Seahawks              | 43                            | Russell Wilson                | NA                            | Pete Carroll                  | Denver Broncos                |  8                            | Peyton Manning                | NA                            | John Fox                      | 51                            | 35                            |\n",
       "| 2013-02-03                    | 47                            | Mercedes-Benz Superdome       | New Orleans                   | Louisiana                     | 71024                         | Baltimore Ravens              | 34                            | Joe Flacco                    | NA                            | John Harbaugh                 | San Francisco 49ers           | 31                            | Colin Kaepernick              | NA                            | Jim Harbaugh                  | 65                            |  3                            |\n",
       "\n"
      ],
      "text/plain": [
       "  date       super_bowl venue                         city           \n",
       "1 2018-02-04 52         U.S. Bank Stadium             Minneapolis    \n",
       "2 2017-02-05 51         NRG Stadium                   Houston        \n",
       "3 2016-02-07 50         Levi's Stadium                Santa Clara    \n",
       "4 2015-02-01 49         University of Phoenix Stadium Glendale       \n",
       "5 2014-02-02 48         MetLife Stadium               East Rutherford\n",
       "6 2013-02-03 47         Mercedes-Benz Superdome       New Orleans    \n",
       "  state      attendance team_winner          winning_pts qb_winner_1   \n",
       "1 Minnesota  67612      Philadelphia Eagles  41          Nick Foles    \n",
       "2 Texas      70807      New England Patriots 34          Tom Brady     \n",
       "3 California 71088      Denver Broncos       24          Peyton Manning\n",
       "4 Arizona    70288      New England Patriots 28          Tom Brady     \n",
       "5 New Jersey 82529      Seattle Seahawks     43          Russell Wilson\n",
       "6 Louisiana  71024      Baltimore Ravens     34          Joe Flacco    \n",
       "  qb_winner_2 coach_winner   team_loser           losing_pts qb_loser_1      \n",
       "1 NA          Doug Pederson  New England Patriots 33         Tom Brady       \n",
       "2 NA          Bill Belichick Atlanta Falcons      28         Matt Ryan       \n",
       "3 NA          Gary Kubiak    Carolina Panthers    10         Cam Newton      \n",
       "4 NA          Bill Belichick Seattle Seahawks     24         Russell Wilson  \n",
       "5 NA          Pete Carroll   Denver Broncos        8         Peyton Manning  \n",
       "6 NA          John Harbaugh  San Francisco 49ers  31         Colin Kaepernick\n",
       "  qb_loser_2 coach_loser    combined_pts difference_pts\n",
       "1 NA         Bill Belichick 74            8            \n",
       "2 NA         Dan Quinn      62            6            \n",
       "3 NA         Ron Rivera     34           14            \n",
       "4 NA         Pete Carroll   52            4            \n",
       "5 NA         John Fox       51           35            \n",
       "6 NA         Jim Harbaugh   65            3            "
      ]
     },
     "metadata": {},
     "output_type": "display_data"
    },
    {
     "data": {
      "text/html": [
       "<table>\n",
       "<thead><tr><th scope=col>super_bowl</th><th scope=col>network</th><th scope=col>avg_us_viewers</th><th scope=col>total_us_viewers</th><th scope=col>rating_household</th><th scope=col>share_household</th><th scope=col>rating_18_49</th><th scope=col>share_18_49</th><th scope=col>ad_cost</th></tr></thead>\n",
       "<tbody>\n",
       "\t<tr><td>52       </td><td>NBC      </td><td>103390000</td><td>       NA</td><td>43.1     </td><td>68       </td><td>33.4     </td><td>78       </td><td>5000000  </td></tr>\n",
       "\t<tr><td>51       </td><td>Fox      </td><td>111319000</td><td>172000000</td><td>45.3     </td><td>73       </td><td>37.1     </td><td>79       </td><td>5000000  </td></tr>\n",
       "\t<tr><td>50       </td><td>CBS      </td><td>111864000</td><td>167000000</td><td>46.6     </td><td>72       </td><td>37.7     </td><td>79       </td><td>5000000  </td></tr>\n",
       "\t<tr><td>49       </td><td>NBC      </td><td>114442000</td><td>168000000</td><td>47.5     </td><td>71       </td><td>39.1     </td><td>79       </td><td>4500000  </td></tr>\n",
       "\t<tr><td>48       </td><td>Fox      </td><td>112191000</td><td>167000000</td><td>46.7     </td><td>69       </td><td>39.3     </td><td>77       </td><td>4000000  </td></tr>\n",
       "\t<tr><td>47       </td><td>CBS      </td><td>108693000</td><td>164100000</td><td>46.3     </td><td>69       </td><td>39.7     </td><td>77       </td><td>4000000  </td></tr>\n",
       "</tbody>\n",
       "</table>\n"
      ],
      "text/latex": [
       "\\begin{tabular}{r|lllllllll}\n",
       " super\\_bowl & network & avg\\_us\\_viewers & total\\_us\\_viewers & rating\\_household & share\\_household & rating\\_18\\_49 & share\\_18\\_49 & ad\\_cost\\\\\n",
       "\\hline\n",
       "\t 52        & NBC       & 103390000 &        NA & 43.1      & 68        & 33.4      & 78        & 5000000  \\\\\n",
       "\t 51        & Fox       & 111319000 & 172000000 & 45.3      & 73        & 37.1      & 79        & 5000000  \\\\\n",
       "\t 50        & CBS       & 111864000 & 167000000 & 46.6      & 72        & 37.7      & 79        & 5000000  \\\\\n",
       "\t 49        & NBC       & 114442000 & 168000000 & 47.5      & 71        & 39.1      & 79        & 4500000  \\\\\n",
       "\t 48        & Fox       & 112191000 & 167000000 & 46.7      & 69        & 39.3      & 77        & 4000000  \\\\\n",
       "\t 47        & CBS       & 108693000 & 164100000 & 46.3      & 69        & 39.7      & 77        & 4000000  \\\\\n",
       "\\end{tabular}\n"
      ],
      "text/markdown": [
       "\n",
       "| super_bowl | network | avg_us_viewers | total_us_viewers | rating_household | share_household | rating_18_49 | share_18_49 | ad_cost |\n",
       "|---|---|---|---|---|---|---|---|---|\n",
       "| 52        | NBC       | 103390000 |        NA | 43.1      | 68        | 33.4      | 78        | 5000000   |\n",
       "| 51        | Fox       | 111319000 | 172000000 | 45.3      | 73        | 37.1      | 79        | 5000000   |\n",
       "| 50        | CBS       | 111864000 | 167000000 | 46.6      | 72        | 37.7      | 79        | 5000000   |\n",
       "| 49        | NBC       | 114442000 | 168000000 | 47.5      | 71        | 39.1      | 79        | 4500000   |\n",
       "| 48        | Fox       | 112191000 | 167000000 | 46.7      | 69        | 39.3      | 77        | 4000000   |\n",
       "| 47        | CBS       | 108693000 | 164100000 | 46.3      | 69        | 39.7      | 77        | 4000000   |\n",
       "\n"
      ],
      "text/plain": [
       "  super_bowl network avg_us_viewers total_us_viewers rating_household\n",
       "1 52         NBC     103390000             NA        43.1            \n",
       "2 51         Fox     111319000      172000000        45.3            \n",
       "3 50         CBS     111864000      167000000        46.6            \n",
       "4 49         NBC     114442000      168000000        47.5            \n",
       "5 48         Fox     112191000      167000000        46.7            \n",
       "6 47         CBS     108693000      164100000        46.3            \n",
       "  share_household rating_18_49 share_18_49 ad_cost\n",
       "1 68              33.4         78          5000000\n",
       "2 73              37.1         79          5000000\n",
       "3 72              37.7         79          5000000\n",
       "4 71              39.1         79          4500000\n",
       "5 69              39.3         77          4000000\n",
       "6 69              39.7         77          4000000"
      ]
     },
     "metadata": {},
     "output_type": "display_data"
    },
    {
     "data": {
      "text/html": [
       "<table>\n",
       "<thead><tr><th scope=col>super_bowl</th><th scope=col>musician</th><th scope=col>num_songs</th></tr></thead>\n",
       "<tbody>\n",
       "\t<tr><td>52                                   </td><td>Justin Timberlake                    </td><td>11                                   </td></tr>\n",
       "\t<tr><td>52                                   </td><td>University of Minnesota Marching Band</td><td> 1                                   </td></tr>\n",
       "\t<tr><td>51                                   </td><td>Lady Gaga                            </td><td> 7                                   </td></tr>\n",
       "\t<tr><td>50                                   </td><td>Coldplay                             </td><td> 6                                   </td></tr>\n",
       "\t<tr><td>50                                   </td><td>Beyoncé                              </td><td> 3                                   </td></tr>\n",
       "\t<tr><td>50                                   </td><td>Bruno Mars                           </td><td> 3                                   </td></tr>\n",
       "</tbody>\n",
       "</table>\n"
      ],
      "text/latex": [
       "\\begin{tabular}{r|lll}\n",
       " super\\_bowl & musician & num\\_songs\\\\\n",
       "\\hline\n",
       "\t 52                                    & Justin Timberlake                     & 11                                   \\\\\n",
       "\t 52                                    & University of Minnesota Marching Band &  1                                   \\\\\n",
       "\t 51                                    & Lady Gaga                             &  7                                   \\\\\n",
       "\t 50                                    & Coldplay                              &  6                                   \\\\\n",
       "\t 50                                    & Beyoncé                               &  3                                   \\\\\n",
       "\t 50                                    & Bruno Mars                            &  3                                   \\\\\n",
       "\\end{tabular}\n"
      ],
      "text/markdown": [
       "\n",
       "| super_bowl | musician | num_songs |\n",
       "|---|---|---|\n",
       "| 52                                    | Justin Timberlake                     | 11                                    |\n",
       "| 52                                    | University of Minnesota Marching Band |  1                                    |\n",
       "| 51                                    | Lady Gaga                             |  7                                    |\n",
       "| 50                                    | Coldplay                              |  6                                    |\n",
       "| 50                                    | Beyoncé                               |  3                                    |\n",
       "| 50                                    | Bruno Mars                            |  3                                    |\n",
       "\n"
      ],
      "text/plain": [
       "  super_bowl musician                              num_songs\n",
       "1 52         Justin Timberlake                     11       \n",
       "2 52         University of Minnesota Marching Band  1       \n",
       "3 51         Lady Gaga                              7       \n",
       "4 50         Coldplay                               6       \n",
       "5 50         Beyoncé                                3       \n",
       "6 50         Bruno Mars                             3       "
      ]
     },
     "metadata": {},
     "output_type": "display_data"
    }
   ],
   "source": [
    "# Load packages\n",
    "library(tidyverse)\n",
    "\n",
    "# Load the CSV data\n",
    "super_bowls  <-  read_csv(\"datasets/super_bowls.csv\")\n",
    "tv  <-  read_csv(\"datasets/tv.csv\")\n",
    "halftime_musicians  <-  read_csv(\"datasets/halftime_musicians.csv\")\n",
    "\n",
    "# Display the first six rows of each tibble\n",
    "head(super_bowls, 6)\n",
    "head(tv, 6)\n",
    "head(halftime_musicians, 6)"
   ]
  },
  {
   "cell_type": "markdown",
   "id": "f2cefed3",
   "metadata": {},
   "source": [
    "## 2. Taking note of dataset issues\n",
    "From the quick look at the Super Bowl game data, we can see that the dataset appears whole except for missing values in the backup quarterback columns (qb_winner_2 and qb_loser_2), which make sense given most starting QBs in the Super Bowl (qb_winner_1 and qb_loser_1) play the entire game.\n",
    "\n",
    "From the visual inspection of TV and halftime musicians data, there is only one missing value displayed, but I've got a hunch there are more. The first Super Bowl was played on January 15, 1967, and I'm guessing some data (e.g., the number of songs performed) probably weren't tracked reliably over time. Wikipedia is great but not perfect.\n",
    "\n",
    "Looking at a summary of the datasets shows us that there are multiple columns with null values."
   ]
  },
  {
   "cell_type": "code",
   "execution_count": 2,
   "id": "9b18f0ee",
   "metadata": {},
   "outputs": [
    {
     "data": {
      "text/plain": [
       "   super_bowl      network          avg_us_viewers      total_us_viewers   \n",
       " Min.   : 1.00   Length:53          Min.   : 24430000   Min.   : 51180000  \n",
       " 1st Qu.:13.00   Class :character   1st Qu.: 73852000   1st Qu.:142900000  \n",
       " Median :26.00   Mode  :character   Median : 85240000   Median :153400000  \n",
       " Mean   :26.02                      Mean   : 80709585   Mean   :148872000  \n",
       " 3rd Qu.:39.00                      3rd Qu.: 92570000   3rd Qu.:165550000  \n",
       " Max.   :52.00                      Max.   :114442000   Max.   :172000000  \n",
       "                                                        NA's   :38         \n",
       " rating_household share_household  rating_18_49    share_18_49   \n",
       " Min.   :18.5     Min.   :36.00   Min.   :33.40   Min.   :77.00  \n",
       " 1st Qu.:41.3     1st Qu.:63.00   1st Qu.:36.90   1st Qu.:77.25  \n",
       " Median :43.3     Median :67.00   Median :37.90   Median :78.50  \n",
       " Mean   :42.7     Mean   :66.38   Mean   :38.01   Mean   :78.17  \n",
       " 3rd Qu.:46.0     3rd Qu.:71.00   3rd Qu.:39.50   3rd Qu.:79.00  \n",
       " Max.   :49.1     Max.   :78.00   Max.   :41.20   Max.   :79.00  \n",
       "                                  NA's   :38      NA's   :47     \n",
       "    ad_cost       \n",
       " Min.   :  37500  \n",
       " 1st Qu.: 185000  \n",
       " Median : 850000  \n",
       " Mean   :1456712  \n",
       " 3rd Qu.:2385365  \n",
       " Max.   :5000000  \n",
       "                  "
      ]
     },
     "metadata": {},
     "output_type": "display_data"
    },
    {
     "data": {
      "text/plain": [
       "   super_bowl      musician           num_songs     \n",
       " Min.   : 1.00   Length:134         Min.   : 1.000  \n",
       " 1st Qu.:17.25   Class :character   1st Qu.: 1.000  \n",
       " Median :31.50   Mode  :character   Median : 2.000  \n",
       " Mean   :29.09                      Mean   : 2.955  \n",
       " 3rd Qu.:41.00                      3rd Qu.: 3.250  \n",
       " Max.   :52.00                      Max.   :11.000  \n",
       "                                    NA's   :46      "
      ]
     },
     "metadata": {},
     "output_type": "display_data"
    }
   ],
   "source": [
    "# Summary of the TV data\n",
    "summary(tv)\n",
    "\n",
    "# Summary of the halftime musician data \n",
    "summary(halftime_musicians)"
   ]
  },
  {
   "cell_type": "markdown",
   "id": "c241804b",
   "metadata": {},
   "source": [
    "## 3. Combined points distribution\n",
    "In the TV data, the following columns have a lot of missing values:\n",
    "\n",
    "total_us_viewers (amount of U.S. viewers who watched at least some part of the broadcast)\n",
    "rating_18_49 (average % of U.S. adults 18-49 who live in a household with a TV that were watching for the entire broadcast)\n",
    "share_18_49 (average % of U.S. adults 18-49 who live in a household with a TV in use that were watching for the entire broadcast)\n",
    "In halftime musician data, there are missing numbers of songs performed (num_songs) for about a third of the musicians.\n",
    "\n",
    "There are a lot of potential reasons for missing values. Were the data ever tracked? Would the research effort to fill in the gaps be worth it? Maybe. Watching every Super Bowl halftime show to get song counts could be pretty fun. But we don't have time to do that now! Let's take note of where the datasets are not perfect and start uncovering some insights.\n",
    "\n",
    "We'll start by visualizing the distribution of combined points for each Super Bowl. Let's also find the Super Bowls with the highest and lowest scores."
   ]
  },
  {
   "cell_type": "code",
   "execution_count": 3,
   "id": "408daefa",
   "metadata": {},
   "outputs": [
    {
     "data": {
      "text/html": [
       "<table>\n",
       "<thead><tr><th scope=col>date</th><th scope=col>super_bowl</th><th scope=col>venue</th><th scope=col>city</th><th scope=col>state</th><th scope=col>attendance</th><th scope=col>team_winner</th><th scope=col>winning_pts</th><th scope=col>qb_winner_1</th><th scope=col>qb_winner_2</th><th scope=col>coach_winner</th><th scope=col>team_loser</th><th scope=col>losing_pts</th><th scope=col>qb_loser_1</th><th scope=col>qb_loser_2</th><th scope=col>coach_loser</th><th scope=col>combined_pts</th><th scope=col>difference_pts</th></tr></thead>\n",
       "<tbody>\n",
       "\t<tr><td>2018-02-04          </td><td>52                  </td><td>U.S. Bank Stadium   </td><td>Minneapolis         </td><td>Minnesota           </td><td>67612               </td><td>Philadelphia Eagles </td><td>41                  </td><td>Nick Foles          </td><td>NA                  </td><td>Doug Pederson       </td><td>New England Patriots</td><td>33                  </td><td>Tom Brady           </td><td>NA                  </td><td>Bill Belichick      </td><td>74                  </td><td> 8                  </td></tr>\n",
       "\t<tr><td>1995-01-29          </td><td>29                  </td><td>Joe Robbie Stadium  </td><td>Miami Gardens       </td><td>Florida             </td><td>74107               </td><td>San Francisco 49ers </td><td>49                  </td><td>Steve Young         </td><td>NA                  </td><td>George Seifert      </td><td>San Diego Chargers  </td><td>26                  </td><td>Stan Humphreys      </td><td>NA                  </td><td>Bobby Ross          </td><td>75                  </td><td>23                  </td></tr>\n",
       "\t<tr><td>1975-01-12          </td><td> 9                  </td><td>Tulane Stadium      </td><td>New Orleans         </td><td>Louisiana           </td><td>80997               </td><td>Pittsburgh Steelers </td><td>16                  </td><td>Terry Bradshaw      </td><td>NA                  </td><td>Chuck Noll          </td><td>Minnesota Vikings   </td><td> 6                  </td><td>Fran Tarkenton      </td><td>NA                  </td><td>Bud Grant           </td><td>22                  </td><td>10                  </td></tr>\n",
       "\t<tr><td>1973-01-14          </td><td> 7                  </td><td>Memorial Coliseum   </td><td>Los Angeles         </td><td>California          </td><td>90182               </td><td>Miami Dolphins      </td><td>14                  </td><td>Bob Griese          </td><td>NA                  </td><td>Don Shula           </td><td>Washington Redskins </td><td> 7                  </td><td>Bill Kilmer         </td><td>NA                  </td><td>George Allen        </td><td>21                  </td><td> 7                  </td></tr>\n",
       "\t<tr><td>1969-01-12          </td><td> 3                  </td><td>Orange Bowl         </td><td>Miami               </td><td>Florida             </td><td>75389               </td><td>New York Jets       </td><td>16                  </td><td>Joe Namath          </td><td>NA                  </td><td>Weeb Ewbank         </td><td>Baltimore Colts     </td><td> 7                  </td><td>Earl Morrall        </td><td>Johnny Unitas       </td><td>Don Shula           </td><td>23                  </td><td> 9                  </td></tr>\n",
       "</tbody>\n",
       "</table>\n"
      ],
      "text/latex": [
       "\\begin{tabular}{r|llllllllllllllllll}\n",
       " date & super\\_bowl & venue & city & state & attendance & team\\_winner & winning\\_pts & qb\\_winner\\_1 & qb\\_winner\\_2 & coach\\_winner & team\\_loser & losing\\_pts & qb\\_loser\\_1 & qb\\_loser\\_2 & coach\\_loser & combined\\_pts & difference\\_pts\\\\\n",
       "\\hline\n",
       "\t 2018-02-04           & 52                   & U.S. Bank Stadium    & Minneapolis          & Minnesota            & 67612                & Philadelphia Eagles  & 41                   & Nick Foles           & NA                   & Doug Pederson        & New England Patriots & 33                   & Tom Brady            & NA                   & Bill Belichick       & 74                   &  8                  \\\\\n",
       "\t 1995-01-29           & 29                   & Joe Robbie Stadium   & Miami Gardens        & Florida              & 74107                & San Francisco 49ers  & 49                   & Steve Young          & NA                   & George Seifert       & San Diego Chargers   & 26                   & Stan Humphreys       & NA                   & Bobby Ross           & 75                   & 23                  \\\\\n",
       "\t 1975-01-12           &  9                   & Tulane Stadium       & New Orleans          & Louisiana            & 80997                & Pittsburgh Steelers  & 16                   & Terry Bradshaw       & NA                   & Chuck Noll           & Minnesota Vikings    &  6                   & Fran Tarkenton       & NA                   & Bud Grant            & 22                   & 10                  \\\\\n",
       "\t 1973-01-14           &  7                   & Memorial Coliseum    & Los Angeles          & California           & 90182                & Miami Dolphins       & 14                   & Bob Griese           & NA                   & Don Shula            & Washington Redskins  &  7                   & Bill Kilmer          & NA                   & George Allen         & 21                   &  7                  \\\\\n",
       "\t 1969-01-12           &  3                   & Orange Bowl          & Miami                & Florida              & 75389                & New York Jets        & 16                   & Joe Namath           & NA                   & Weeb Ewbank          & Baltimore Colts      &  7                   & Earl Morrall         & Johnny Unitas        & Don Shula            & 23                   &  9                  \\\\\n",
       "\\end{tabular}\n"
      ],
      "text/markdown": [
       "\n",
       "| date | super_bowl | venue | city | state | attendance | team_winner | winning_pts | qb_winner_1 | qb_winner_2 | coach_winner | team_loser | losing_pts | qb_loser_1 | qb_loser_2 | coach_loser | combined_pts | difference_pts |\n",
       "|---|---|---|---|---|---|---|---|---|---|---|---|---|---|---|---|---|---|\n",
       "| 2018-02-04           | 52                   | U.S. Bank Stadium    | Minneapolis          | Minnesota            | 67612                | Philadelphia Eagles  | 41                   | Nick Foles           | NA                   | Doug Pederson        | New England Patriots | 33                   | Tom Brady            | NA                   | Bill Belichick       | 74                   |  8                   |\n",
       "| 1995-01-29           | 29                   | Joe Robbie Stadium   | Miami Gardens        | Florida              | 74107                | San Francisco 49ers  | 49                   | Steve Young          | NA                   | George Seifert       | San Diego Chargers   | 26                   | Stan Humphreys       | NA                   | Bobby Ross           | 75                   | 23                   |\n",
       "| 1975-01-12           |  9                   | Tulane Stadium       | New Orleans          | Louisiana            | 80997                | Pittsburgh Steelers  | 16                   | Terry Bradshaw       | NA                   | Chuck Noll           | Minnesota Vikings    |  6                   | Fran Tarkenton       | NA                   | Bud Grant            | 22                   | 10                   |\n",
       "| 1973-01-14           |  7                   | Memorial Coliseum    | Los Angeles          | California           | 90182                | Miami Dolphins       | 14                   | Bob Griese           | NA                   | Don Shula            | Washington Redskins  |  7                   | Bill Kilmer          | NA                   | George Allen         | 21                   |  7                   |\n",
       "| 1969-01-12           |  3                   | Orange Bowl          | Miami                | Florida              | 75389                | New York Jets        | 16                   | Joe Namath           | NA                   | Weeb Ewbank          | Baltimore Colts      |  7                   | Earl Morrall         | Johnny Unitas        | Don Shula            | 23                   |  9                   |\n",
       "\n"
      ],
      "text/plain": [
       "  date       super_bowl venue              city          state      attendance\n",
       "1 2018-02-04 52         U.S. Bank Stadium  Minneapolis   Minnesota  67612     \n",
       "2 1995-01-29 29         Joe Robbie Stadium Miami Gardens Florida    74107     \n",
       "3 1975-01-12  9         Tulane Stadium     New Orleans   Louisiana  80997     \n",
       "4 1973-01-14  7         Memorial Coliseum  Los Angeles   California 90182     \n",
       "5 1969-01-12  3         Orange Bowl        Miami         Florida    75389     \n",
       "  team_winner         winning_pts qb_winner_1    qb_winner_2 coach_winner  \n",
       "1 Philadelphia Eagles 41          Nick Foles     NA          Doug Pederson \n",
       "2 San Francisco 49ers 49          Steve Young    NA          George Seifert\n",
       "3 Pittsburgh Steelers 16          Terry Bradshaw NA          Chuck Noll    \n",
       "4 Miami Dolphins      14          Bob Griese     NA          Don Shula     \n",
       "5 New York Jets       16          Joe Namath     NA          Weeb Ewbank   \n",
       "  team_loser           losing_pts qb_loser_1     qb_loser_2    coach_loser   \n",
       "1 New England Patriots 33         Tom Brady      NA            Bill Belichick\n",
       "2 San Diego Chargers   26         Stan Humphreys NA            Bobby Ross    \n",
       "3 Minnesota Vikings     6         Fran Tarkenton NA            Bud Grant     \n",
       "4 Washington Redskins   7         Bill Kilmer    NA            George Allen  \n",
       "5 Baltimore Colts       7         Earl Morrall   Johnny Unitas Don Shula     \n",
       "  combined_pts difference_pts\n",
       "1 74            8            \n",
       "2 75           23            \n",
       "3 22           10            \n",
       "4 21            7            \n",
       "5 23            9            "
      ]
     },
     "metadata": {},
     "output_type": "display_data"
    },
    {
     "data": {
      "image/png": "[encoded data removed]",
      "text/plain": [
       "plot without title"
      ]
     },
     "metadata": {},
     "output_type": "display_data"
    }
   ],
   "source": [
    "# Reduce the size of the plots\n",
    "options(repr.plot.width = 5, repr.plot.height = 4)\n",
    "\n",
    "# Plot a histogram of combined points\n",
    "ggplot(super_bowls, aes(combined_pts)) +\n",
    " geom_histogram(binwidth = 5) +\n",
    " labs(x = \"Combined Points\", y = \"Number of Super Bowls\")\n",
    "\n",
    "# Display the highest- and lowest-scoring Super Bowls\n",
    "super_bowls  %>% \n",
    " filter(combined_pts > 70 | combined_pts < 25)"
   ]
  },
  {
   "cell_type": "markdown",
   "id": "3cbe5510",
   "metadata": {},
   "source": [
    "## 4. Point difference distribution\n",
    "Most of the combined scores are between 40 and 50 points, with the extremes being roughly equal distance away in opposite directions. At the highest combined scores of 74 and 75, are two games featuring dominant quarterback performances. One happened last year - Super Bowl LII when Tom Brady's Patriots lost to Nick Foles' underdog Eagles 33 to 41, for a combined score of 74.\n",
    "\n",
    "On the other end of the spectrum, we have Super Bowl III and VII, which featured tough defenses that dominated the games. We also have Super Bowl IX in New Orleans in 1975, whose 16-6 score can be attributed to inclement weather. Overnight rain made the field slick, and it was cold (46 °F / 8 °C), making it hard for the Steelers and Vikings to do much offensively. This was the second-coldest Super Bowl ever and the last to be played in inclement weather for over 30 years. The NFL realized people like points, I guess.\n",
    "\n",
    "UPDATE: In Super Bowl LIII in 2019, the Patriots and Rams broke the record for the lowest-scoring Super Bowl with a combined score of 16 points (13-3 for the Patriots).\n",
    "\n",
    "Now let's take a look at the point difference between teams in each Super Bowl."
   ]
  },
  {
   "cell_type": "code",
   "execution_count": 4,
   "id": "b997513a",
   "metadata": {},
   "outputs": [
    {
     "data": {
      "text/html": [
       "<table>\n",
       "<thead><tr><th scope=col>date</th><th scope=col>super_bowl</th><th scope=col>venue</th><th scope=col>city</th><th scope=col>state</th><th scope=col>attendance</th><th scope=col>team_winner</th><th scope=col>winning_pts</th><th scope=col>qb_winner_1</th><th scope=col>qb_winner_2</th><th scope=col>coach_winner</th><th scope=col>team_loser</th><th scope=col>losing_pts</th><th scope=col>qb_loser_1</th><th scope=col>qb_loser_2</th><th scope=col>coach_loser</th><th scope=col>combined_pts</th><th scope=col>difference_pts</th></tr></thead>\n",
       "<tbody>\n",
       "\t<tr><td>1991-01-27         </td><td>25                 </td><td>Tampa Stadium      </td><td>Tampa              </td><td>Florida            </td><td>73813              </td><td>New York Giants    </td><td>20                 </td><td>Jeff Hostetler     </td><td>NA                 </td><td>Bill Parcells      </td><td>Buffalo Bills      </td><td>19                 </td><td>Jim Kelly          </td><td>NA                 </td><td>Marv Levy          </td><td>39                 </td><td> 1                 </td></tr>\n",
       "\t<tr><td>1990-01-28         </td><td>24                 </td><td>Louisiana Superdome</td><td>New Orleans        </td><td>Louisiana          </td><td>72919              </td><td>San Francisco 49ers</td><td>55                 </td><td>Joe Montana        </td><td>NA                 </td><td>George Seifert     </td><td>Denver Broncos     </td><td>10                 </td><td>John Elway         </td><td>NA                 </td><td>Dan Reeves         </td><td>65                 </td><td>45                 </td></tr>\n",
       "</tbody>\n",
       "</table>\n"
      ],
      "text/latex": [
       "\\begin{tabular}{r|llllllllllllllllll}\n",
       " date & super\\_bowl & venue & city & state & attendance & team\\_winner & winning\\_pts & qb\\_winner\\_1 & qb\\_winner\\_2 & coach\\_winner & team\\_loser & losing\\_pts & qb\\_loser\\_1 & qb\\_loser\\_2 & coach\\_loser & combined\\_pts & difference\\_pts\\\\\n",
       "\\hline\n",
       "\t 1991-01-27          & 25                  & Tampa Stadium       & Tampa               & Florida             & 73813               & New York Giants     & 20                  & Jeff Hostetler      & NA                  & Bill Parcells       & Buffalo Bills       & 19                  & Jim Kelly           & NA                  & Marv Levy           & 39                  &  1                 \\\\\n",
       "\t 1990-01-28          & 24                  & Louisiana Superdome & New Orleans         & Louisiana           & 72919               & San Francisco 49ers & 55                  & Joe Montana         & NA                  & George Seifert      & Denver Broncos      & 10                  & John Elway          & NA                  & Dan Reeves          & 65                  & 45                 \\\\\n",
       "\\end{tabular}\n"
      ],
      "text/markdown": [
       "\n",
       "| date | super_bowl | venue | city | state | attendance | team_winner | winning_pts | qb_winner_1 | qb_winner_2 | coach_winner | team_loser | losing_pts | qb_loser_1 | qb_loser_2 | coach_loser | combined_pts | difference_pts |\n",
       "|---|---|---|---|---|---|---|---|---|---|---|---|---|---|---|---|---|---|\n",
       "| 1991-01-27          | 25                  | Tampa Stadium       | Tampa               | Florida             | 73813               | New York Giants     | 20                  | Jeff Hostetler      | NA                  | Bill Parcells       | Buffalo Bills       | 19                  | Jim Kelly           | NA                  | Marv Levy           | 39                  |  1                  |\n",
       "| 1990-01-28          | 24                  | Louisiana Superdome | New Orleans         | Louisiana           | 72919               | San Francisco 49ers | 55                  | Joe Montana         | NA                  | George Seifert      | Denver Broncos      | 10                  | John Elway          | NA                  | Dan Reeves          | 65                  | 45                  |\n",
       "\n"
      ],
      "text/plain": [
       "  date       super_bowl venue               city        state     attendance\n",
       "1 1991-01-27 25         Tampa Stadium       Tampa       Florida   73813     \n",
       "2 1990-01-28 24         Louisiana Superdome New Orleans Louisiana 72919     \n",
       "  team_winner         winning_pts qb_winner_1    qb_winner_2 coach_winner  \n",
       "1 New York Giants     20          Jeff Hostetler NA          Bill Parcells \n",
       "2 San Francisco 49ers 55          Joe Montana    NA          George Seifert\n",
       "  team_loser     losing_pts qb_loser_1 qb_loser_2 coach_loser combined_pts\n",
       "1 Buffalo Bills  19         Jim Kelly  NA         Marv Levy   39          \n",
       "2 Denver Broncos 10         John Elway NA         Dan Reeves  65          \n",
       "  difference_pts\n",
       "1  1            \n",
       "2 45            "
      ]
     },
     "metadata": {},
     "output_type": "display_data"
    },
    {
     "data": {
      "image/png": "[encoded data removed]",
      "text/plain": [
       "plot without title"
      ]
     },
     "metadata": {},
     "output_type": "display_data"
    }
   ],
   "source": [
    "# Reduce the size of the plots\n",
    "options(repr.plot.width = 5, repr.plot.height = 4)\n",
    "\n",
    "# Plot a histogram of point differences\n",
    "ggplot(super_bowls, aes(difference_pts)) +\n",
    " geom_histogram(binwidth = 2) +\n",
    " labs(x = \"Point Difference\", y = \"Number of Super Bowls\")\n",
    "\n",
    "# Display the closest game and largest blow out\n",
    "super_bowls  %>% \n",
    " filter(difference_pts == min(difference_pts) | difference_pts == max(difference_pts))"
   ]
  },
  {
   "cell_type": "markdown",
   "id": "afd33237",
   "metadata": {},
   "source": [
    "## 5. Do blowouts translate to lost viewers?\n",
    "The vast majority of Super Bowls are close games. Makes sense. Both teams are the best in their conference if they've made it this far. The closest game ever was the Buffalo Bills' 1-point loss to the New York Giants in 1991, which is best remembered for Scott Norwood's last-second missed field goal attempt that went wide right, kicking off four Bills Super Bowl losses in a row. Poor Scott. The biggest point spread so far is 45 points (!) when Hall of Famer, Joe Montana, led the San Francisco 49ers to victory in 1990, one year before the closest game ever.\n",
    "\n",
    "I remember watching the Seahawks crush the Broncos by 35 points (43-8) in 2014, which was a boring experience in my opinion. The game was never really close. I'm pretty sure we changed the channel at the end of the third quarter. Let's combine the game data and TV data to see if this is a universal phenomenon. Do large point differences translate to lost viewers? We can plot household share (average percentage of U.S. households with a TV in use that were watching for the entire broadcast) vs. point difference to find out."
   ]
  },
  {
   "cell_type": "code",
   "execution_count": 5,
   "id": "b4265ddc",
   "metadata": {},
   "outputs": [
    {
     "data": {
      "image/png": "[encoded data removed]",
      "text/plain": [
       "plot without title"
      ]
     },
     "metadata": {},
     "output_type": "display_data"
    }
   ],
   "source": [
    "# Filter out Super Bowl I and join the game data and TV data\n",
    "games_tv <- tv  %>% \n",
    " filter(super_bowl != 1)  %>% \n",
    " inner_join(super_bowls, by = \"super_bowl\")\n",
    "\n",
    "# Create a scatter plot with a linear regression model\n",
    "ggplot(games_tv, aes(x = difference_pts, y = share_household)) +\n",
    " geom_point() +\n",
    " geom_smooth(method = \"lm\") +\n",
    " labs(x = \"Point Difference\", y = \"Viewership (household share)\")"
   ]
  },
  {
   "cell_type": "markdown",
   "id": "0b629b14",
   "metadata": {},
   "source": [
    "## 6. Viewership and the ad industry over time\n",
    "The downward sloping regression line and the 95% confidence interval for that regression suggest that bailing on the game if it is a blowout is common. Though it matches our intuition, we must take it with a grain of salt because the linear relationship in the data is weak due to our small sample size of 52 games.\n",
    "\n",
    "Regardless of the score, I bet most people stick it out for the halftime show, which is good news for the TV networks and advertisers. A 30-second spot costs a pretty $5 million now, but has it always been that much? And how has the number of viewers and household ratings trended alongside advertisement cost? We can find out using line plots that share a \"Super Bowl\" x-axis."
   ]
  },
  {
   "cell_type": "code",
   "execution_count": 6,
   "id": "d1d5752a",
   "metadata": {},
   "outputs": [
    {
     "data": {
      "image/png": "[encoded data removed]",
      "text/plain": [
       "plot without title"
      ]
     },
     "metadata": {},
     "output_type": "display_data"
    }
   ],
   "source": [
    "# Convert the data format for plotting\n",
    "games_tv_plot  <- games_tv %>% \n",
    "    gather(key = \"category\", value = \"value\", \"avg_us_viewers\", \"rating_household\", \"ad_cost\")  %>% \n",
    "    mutate(cat_name = case_when(category == \"avg_us_viewers\" ~ \"Average number of US viewers\",\n",
    "                                category == \"rating_household\" ~ \"Household rating\",\n",
    "                                category == \"ad_cost\" ~ \"Advertisement cost (USD)\",\n",
    "                                TRUE ~ as.character(category)))\n",
    "\n",
    "# Plot the data\n",
    "ggplot(games_tv_plot, aes(x = super_bowl, y = value)) +\n",
    " geom_line() +\n",
    " facet_wrap(~ cat_name, scales = \"free\", nrow = 3) + \n",
    " labs(x = \"Super Bowl\", y = \"\") + theme_minimal()\n",
    " #.... YOUR CODE FOR TASK 6 ...."
   ]
  },
  {
   "cell_type": "markdown",
   "id": "7fc72afd",
   "metadata": {},
   "source": [
    "## 7. Halftime shows weren't always this great\n",
    "We can see that the number of viewers increased before advertisement costs did. Maybe the networks weren't very data savvy and were slow to react? Makes sense since DataCamp didn't exist back then.\n",
    "\n",
    "Another hypothesis: maybe halftime shows weren't as entertaining in the earlier years? The modern spectacle that is the Super Bowl has a lot to do with of big halftime acts. I went down a YouTube rabbit hole, and it turns out that older halftime shows were not quite the spectacle they are today. Some examples:\n",
    "\n",
    "Super Bowl XXVI in 1992: A Frosty The Snowman rap performed by children.\n",
    "Super Bowl XXIII in 1989: An Elvis impersonator who did magic tricks and didn't even sing one Elvis song.\n",
    "Super Bowl XXI in 1987: Tap dancing ponies. Okay, that was pretty awesome actually.\n",
    "It turns out that Michael Jackson's Super Bowl XXVII performance, one of the most watched events in American TV history, was when the NFL realized that the having big-name halftime acts brought in more viewers. Let's look at the halftime acts before Michael Jackson brought the NFL and entertainment industry together."
   ]
  },
  {
   "cell_type": "code",
   "execution_count": 7,
   "id": "da034f24",
   "metadata": {},
   "outputs": [
    {
     "data": {
      "text/html": [
       "<table>\n",
       "<thead><tr><th scope=col>super_bowl</th><th scope=col>musician</th><th scope=col>num_songs</th></tr></thead>\n",
       "<tbody>\n",
       "\t<tr><td>27                                                              </td><td>Michael Jackson                                                 </td><td> 5                                                              </td></tr>\n",
       "\t<tr><td>26                                                              </td><td>Gloria Estefan                                                  </td><td> 2                                                              </td></tr>\n",
       "\t<tr><td>26                                                              </td><td>University of Minnesota Marching Band                           </td><td>NA                                                              </td></tr>\n",
       "\t<tr><td>25                                                              </td><td>New Kids on the Block                                           </td><td> 2                                                              </td></tr>\n",
       "\t<tr><td>24                                                              </td><td>Pete Fountain                                                   </td><td> 1                                                              </td></tr>\n",
       "\t<tr><td>24                                                              </td><td>Doug Kershaw                                                    </td><td> 1                                                              </td></tr>\n",
       "\t<tr><td>24                                                              </td><td>Irma Thomas                                                     </td><td> 1                                                              </td></tr>\n",
       "\t<tr><td>24                                                              </td><td>Pride of Nicholls Marching Band                                 </td><td>NA                                                              </td></tr>\n",
       "\t<tr><td>24                                                              </td><td>The Human Jukebox                                               </td><td>NA                                                              </td></tr>\n",
       "\t<tr><td>24                                                              </td><td>Pride of Acadiana                                               </td><td>NA                                                              </td></tr>\n",
       "\t<tr><td>23                                                              </td><td>Elvis Presto                                                    </td><td> 7                                                              </td></tr>\n",
       "\t<tr><td>22                                                              </td><td>Chubby Checker                                                  </td><td> 2                                                              </td></tr>\n",
       "\t<tr><td>22                                                              </td><td>San Diego State University Marching Aztecs                      </td><td>NA                                                              </td></tr>\n",
       "\t<tr><td>22                                                              </td><td>Spirit of Troy                                                  </td><td>NA                                                              </td></tr>\n",
       "\t<tr><td>21                                                              </td><td>Grambling State University Tiger Marching Band                  </td><td> 8                                                              </td></tr>\n",
       "\t<tr><td>21                                                              </td><td>Spirit of Troy                                                  </td><td> 8                                                              </td></tr>\n",
       "\t<tr><td>20                                                              </td><td>Up with People                                                  </td><td>NA                                                              </td></tr>\n",
       "\t<tr><td>19                                                              </td><td>Tops In Blue                                                    </td><td>NA                                                              </td></tr>\n",
       "\t<tr><td>18                                                              </td><td>The University of Florida Fightin' Gator Marching Band          </td><td> 7                                                              </td></tr>\n",
       "\t<tr><td>18                                                              </td><td>The Florida State University Marching Chiefs                    </td><td> 7                                                              </td></tr>\n",
       "\t<tr><td>17                                                              </td><td>Los Angeles Unified School District All City Honor Marching Band</td><td>NA                                                              </td></tr>\n",
       "\t<tr><td>16                                                              </td><td>Up with People                                                  </td><td>NA                                                              </td></tr>\n",
       "\t<tr><td>15                                                              </td><td>The Human Jukebox                                               </td><td>NA                                                              </td></tr>\n",
       "\t<tr><td>15                                                              </td><td>Helen O'Connell                                                 </td><td>NA                                                              </td></tr>\n",
       "\t<tr><td>14                                                              </td><td>Up with People                                                  </td><td>NA                                                              </td></tr>\n",
       "\t<tr><td>14                                                              </td><td>Grambling State University Tiger Marching Band                  </td><td>NA                                                              </td></tr>\n",
       "\t<tr><td>13                                                              </td><td>Ken Hamilton                                                    </td><td>NA                                                              </td></tr>\n",
       "\t<tr><td>13                                                              </td><td>Gramacks                                                        </td><td>NA                                                              </td></tr>\n",
       "\t<tr><td>12                                                              </td><td>Tyler Junior College Apache Band                                </td><td>NA                                                              </td></tr>\n",
       "\t<tr><td>12                                                              </td><td>Pete Fountain                                                   </td><td>NA                                                              </td></tr>\n",
       "\t<tr><td>12                                                              </td><td>Al Hirt                                                         </td><td>NA                                                              </td></tr>\n",
       "\t<tr><td>11                                                              </td><td>Los Angeles Unified School District All City Honor Marching Band</td><td>NA                                                              </td></tr>\n",
       "\t<tr><td>10                                                              </td><td>Up with People                                                  </td><td>NA                                                              </td></tr>\n",
       "\t<tr><td> 9                                                              </td><td>Mercer Ellington                                                </td><td>NA                                                              </td></tr>\n",
       "\t<tr><td> 9                                                              </td><td>Grambling State University Tiger Marching Band                  </td><td>NA                                                              </td></tr>\n",
       "\t<tr><td> 8                                                              </td><td>University of Texas Longhorn Band                               </td><td>NA                                                              </td></tr>\n",
       "\t<tr><td> 8                                                              </td><td>Judy Mallett                                                    </td><td>NA                                                              </td></tr>\n",
       "\t<tr><td> 7                                                              </td><td>University of Michigan Marching Band                            </td><td>NA                                                              </td></tr>\n",
       "\t<tr><td> 7                                                              </td><td>Woody Herman                                                    </td><td>NA                                                              </td></tr>\n",
       "\t<tr><td> 7                                                              </td><td>Andy Williams                                                   </td><td>NA                                                              </td></tr>\n",
       "\t<tr><td> 6                                                              </td><td>Ella Fitzgerald                                                 </td><td>NA                                                              </td></tr>\n",
       "\t<tr><td> 6                                                              </td><td>Carol Channing                                                  </td><td>NA                                                              </td></tr>\n",
       "\t<tr><td> 6                                                              </td><td>Al Hirt                                                         </td><td>NA                                                              </td></tr>\n",
       "\t<tr><td> 6                                                              </td><td>United States Air Force Academy Cadet Chorale                   </td><td>NA                                                              </td></tr>\n",
       "\t<tr><td> 5                                                              </td><td>Southeast Missouri State Marching Band                          </td><td>NA                                                              </td></tr>\n",
       "\t<tr><td> 4                                                              </td><td>Marguerite Piazza                                               </td><td>NA                                                              </td></tr>\n",
       "\t<tr><td> 4                                                              </td><td>Doc Severinsen                                                  </td><td>NA                                                              </td></tr>\n",
       "\t<tr><td> 4                                                              </td><td>Al Hirt                                                         </td><td>NA                                                              </td></tr>\n",
       "\t<tr><td> 4                                                              </td><td>The Human Jukebox                                               </td><td>NA                                                              </td></tr>\n",
       "\t<tr><td> 3                                                                                                          </td><td><span style=white-space:pre-wrap>Florida A&amp;M University Marching 100 Band                        </span></td><td>NA                                                                                                          </td></tr>\n",
       "\t<tr><td> 2                                                              </td><td>Grambling State University Tiger Marching Band                  </td><td>NA                                                              </td></tr>\n",
       "\t<tr><td> 1                                                              </td><td>University of Arizona Symphonic Marching Band                   </td><td>NA                                                              </td></tr>\n",
       "\t<tr><td> 1                                                              </td><td>Grambling State University Tiger Marching Band                  </td><td>NA                                                              </td></tr>\n",
       "\t<tr><td> 1                                                              </td><td>Al Hirt                                                         </td><td>NA                                                              </td></tr>\n",
       "</tbody>\n",
       "</table>\n"
      ],
      "text/latex": [
       "\\begin{tabular}{r|lll}\n",
       " super\\_bowl & musician & num\\_songs\\\\\n",
       "\\hline\n",
       "\t 27                                                               & Michael Jackson                                                  &  5                                                              \\\\\n",
       "\t 26                                                               & Gloria Estefan                                                   &  2                                                              \\\\\n",
       "\t 26                                                               & University of Minnesota Marching Band                            & NA                                                              \\\\\n",
       "\t 25                                                               & New Kids on the Block                                            &  2                                                              \\\\\n",
       "\t 24                                                               & Pete Fountain                                                    &  1                                                              \\\\\n",
       "\t 24                                                               & Doug Kershaw                                                     &  1                                                              \\\\\n",
       "\t 24                                                               & Irma Thomas                                                      &  1                                                              \\\\\n",
       "\t 24                                                               & Pride of Nicholls Marching Band                                  & NA                                                              \\\\\n",
       "\t 24                                                               & The Human Jukebox                                                & NA                                                              \\\\\n",
       "\t 24                                                               & Pride of Acadiana                                                & NA                                                              \\\\\n",
       "\t 23                                                               & Elvis Presto                                                     &  7                                                              \\\\\n",
       "\t 22                                                               & Chubby Checker                                                   &  2                                                              \\\\\n",
       "\t 22                                                               & San Diego State University Marching Aztecs                       & NA                                                              \\\\\n",
       "\t 22                                                               & Spirit of Troy                                                   & NA                                                              \\\\\n",
       "\t 21                                                               & Grambling State University Tiger Marching Band                   &  8                                                              \\\\\n",
       "\t 21                                                               & Spirit of Troy                                                   &  8                                                              \\\\\n",
       "\t 20                                                               & Up with People                                                   & NA                                                              \\\\\n",
       "\t 19                                                               & Tops In Blue                                                     & NA                                                              \\\\\n",
       "\t 18                                                               & The University of Florida Fightin' Gator Marching Band           &  7                                                              \\\\\n",
       "\t 18                                                               & The Florida State University Marching Chiefs                     &  7                                                              \\\\\n",
       "\t 17                                                               & Los Angeles Unified School District All City Honor Marching Band & NA                                                              \\\\\n",
       "\t 16                                                               & Up with People                                                   & NA                                                              \\\\\n",
       "\t 15                                                               & The Human Jukebox                                                & NA                                                              \\\\\n",
       "\t 15                                                               & Helen O'Connell                                                  & NA                                                              \\\\\n",
       "\t 14                                                               & Up with People                                                   & NA                                                              \\\\\n",
       "\t 14                                                               & Grambling State University Tiger Marching Band                   & NA                                                              \\\\\n",
       "\t 13                                                               & Ken Hamilton                                                     & NA                                                              \\\\\n",
       "\t 13                                                               & Gramacks                                                         & NA                                                              \\\\\n",
       "\t 12                                                               & Tyler Junior College Apache Band                                 & NA                                                              \\\\\n",
       "\t 12                                                               & Pete Fountain                                                    & NA                                                              \\\\\n",
       "\t 12                                                               & Al Hirt                                                          & NA                                                              \\\\\n",
       "\t 11                                                               & Los Angeles Unified School District All City Honor Marching Band & NA                                                              \\\\\n",
       "\t 10                                                               & Up with People                                                   & NA                                                              \\\\\n",
       "\t  9                                                               & Mercer Ellington                                                 & NA                                                              \\\\\n",
       "\t  9                                                               & Grambling State University Tiger Marching Band                   & NA                                                              \\\\\n",
       "\t  8                                                               & University of Texas Longhorn Band                                & NA                                                              \\\\\n",
       "\t  8                                                               & Judy Mallett                                                     & NA                                                              \\\\\n",
       "\t  7                                                               & University of Michigan Marching Band                             & NA                                                              \\\\\n",
       "\t  7                                                               & Woody Herman                                                     & NA                                                              \\\\\n",
       "\t  7                                                               & Andy Williams                                                    & NA                                                              \\\\\n",
       "\t  6                                                               & Ella Fitzgerald                                                  & NA                                                              \\\\\n",
       "\t  6                                                               & Carol Channing                                                   & NA                                                              \\\\\n",
       "\t  6                                                               & Al Hirt                                                          & NA                                                              \\\\\n",
       "\t  6                                                               & United States Air Force Academy Cadet Chorale                    & NA                                                              \\\\\n",
       "\t  5                                                               & Southeast Missouri State Marching Band                           & NA                                                              \\\\\n",
       "\t  4                                                               & Marguerite Piazza                                                & NA                                                              \\\\\n",
       "\t  4                                                               & Doc Severinsen                                                   & NA                                                              \\\\\n",
       "\t  4                                                               & Al Hirt                                                          & NA                                                              \\\\\n",
       "\t  4                                                               & The Human Jukebox                                                & NA                                                              \\\\\n",
       "\t  3                                                                 & Florida A\\&M University Marching 100 Band                         & NA                                                                \\\\\n",
       "\t  2                                                               & Grambling State University Tiger Marching Band                   & NA                                                              \\\\\n",
       "\t  1                                                               & University of Arizona Symphonic Marching Band                    & NA                                                              \\\\\n",
       "\t  1                                                               & Grambling State University Tiger Marching Band                   & NA                                                              \\\\\n",
       "\t  1                                                               & Al Hirt                                                          & NA                                                              \\\\\n",
       "\\end{tabular}\n"
      ],
      "text/markdown": [
       "\n",
       "| super_bowl | musician | num_songs |\n",
       "|---|---|---|\n",
       "| 27                                                               | Michael Jackson                                                  |  5                                                               |\n",
       "| 26                                                               | Gloria Estefan                                                   |  2                                                               |\n",
       "| 26                                                               | University of Minnesota Marching Band                            | NA                                                               |\n",
       "| 25                                                               | New Kids on the Block                                            |  2                                                               |\n",
       "| 24                                                               | Pete Fountain                                                    |  1                                                               |\n",
       "| 24                                                               | Doug Kershaw                                                     |  1                                                               |\n",
       "| 24                                                               | Irma Thomas                                                      |  1                                                               |\n",
       "| 24                                                               | Pride of Nicholls Marching Band                                  | NA                                                               |\n",
       "| 24                                                               | The Human Jukebox                                                | NA                                                               |\n",
       "| 24                                                               | Pride of Acadiana                                                | NA                                                               |\n",
       "| 23                                                               | Elvis Presto                                                     |  7                                                               |\n",
       "| 22                                                               | Chubby Checker                                                   |  2                                                               |\n",
       "| 22                                                               | San Diego State University Marching Aztecs                       | NA                                                               |\n",
       "| 22                                                               | Spirit of Troy                                                   | NA                                                               |\n",
       "| 21                                                               | Grambling State University Tiger Marching Band                   |  8                                                               |\n",
       "| 21                                                               | Spirit of Troy                                                   |  8                                                               |\n",
       "| 20                                                               | Up with People                                                   | NA                                                               |\n",
       "| 19                                                               | Tops In Blue                                                     | NA                                                               |\n",
       "| 18                                                               | The University of Florida Fightin' Gator Marching Band           |  7                                                               |\n",
       "| 18                                                               | The Florida State University Marching Chiefs                     |  7                                                               |\n",
       "| 17                                                               | Los Angeles Unified School District All City Honor Marching Band | NA                                                               |\n",
       "| 16                                                               | Up with People                                                   | NA                                                               |\n",
       "| 15                                                               | The Human Jukebox                                                | NA                                                               |\n",
       "| 15                                                               | Helen O'Connell                                                  | NA                                                               |\n",
       "| 14                                                               | Up with People                                                   | NA                                                               |\n",
       "| 14                                                               | Grambling State University Tiger Marching Band                   | NA                                                               |\n",
       "| 13                                                               | Ken Hamilton                                                     | NA                                                               |\n",
       "| 13                                                               | Gramacks                                                         | NA                                                               |\n",
       "| 12                                                               | Tyler Junior College Apache Band                                 | NA                                                               |\n",
       "| 12                                                               | Pete Fountain                                                    | NA                                                               |\n",
       "| 12                                                               | Al Hirt                                                          | NA                                                               |\n",
       "| 11                                                               | Los Angeles Unified School District All City Honor Marching Band | NA                                                               |\n",
       "| 10                                                               | Up with People                                                   | NA                                                               |\n",
       "|  9                                                               | Mercer Ellington                                                 | NA                                                               |\n",
       "|  9                                                               | Grambling State University Tiger Marching Band                   | NA                                                               |\n",
       "|  8                                                               | University of Texas Longhorn Band                                | NA                                                               |\n",
       "|  8                                                               | Judy Mallett                                                     | NA                                                               |\n",
       "|  7                                                               | University of Michigan Marching Band                             | NA                                                               |\n",
       "|  7                                                               | Woody Herman                                                     | NA                                                               |\n",
       "|  7                                                               | Andy Williams                                                    | NA                                                               |\n",
       "|  6                                                               | Ella Fitzgerald                                                  | NA                                                               |\n",
       "|  6                                                               | Carol Channing                                                   | NA                                                               |\n",
       "|  6                                                               | Al Hirt                                                          | NA                                                               |\n",
       "|  6                                                               | United States Air Force Academy Cadet Chorale                    | NA                                                               |\n",
       "|  5                                                               | Southeast Missouri State Marching Band                           | NA                                                               |\n",
       "|  4                                                               | Marguerite Piazza                                                | NA                                                               |\n",
       "|  4                                                               | Doc Severinsen                                                   | NA                                                               |\n",
       "|  4                                                               | Al Hirt                                                          | NA                                                               |\n",
       "|  4                                                               | The Human Jukebox                                                | NA                                                               |\n",
       "|  3                                                               | Florida A&M University Marching 100 Band                         | NA                                                               |\n",
       "|  2                                                               | Grambling State University Tiger Marching Band                   | NA                                                               |\n",
       "|  1                                                               | University of Arizona Symphonic Marching Band                    | NA                                                               |\n",
       "|  1                                                               | Grambling State University Tiger Marching Band                   | NA                                                               |\n",
       "|  1                                                               | Al Hirt                                                          | NA                                                               |\n",
       "\n"
      ],
      "text/plain": [
       "   super_bowl musician                                                        \n",
       "1  27         Michael Jackson                                                 \n",
       "2  26         Gloria Estefan                                                  \n",
       "3  26         University of Minnesota Marching Band                           \n",
       "4  25         New Kids on the Block                                           \n",
       "5  24         Pete Fountain                                                   \n",
       "6  24         Doug Kershaw                                                    \n",
       "7  24         Irma Thomas                                                     \n",
       "8  24         Pride of Nicholls Marching Band                                 \n",
       "9  24         The Human Jukebox                                               \n",
       "10 24         Pride of Acadiana                                               \n",
       "11 23         Elvis Presto                                                    \n",
       "12 22         Chubby Checker                                                  \n",
       "13 22         San Diego State University Marching Aztecs                      \n",
       "14 22         Spirit of Troy                                                  \n",
       "15 21         Grambling State University Tiger Marching Band                  \n",
       "16 21         Spirit of Troy                                                  \n",
       "17 20         Up with People                                                  \n",
       "18 19         Tops In Blue                                                    \n",
       "19 18         The University of Florida Fightin' Gator Marching Band          \n",
       "20 18         The Florida State University Marching Chiefs                    \n",
       "21 17         Los Angeles Unified School District All City Honor Marching Band\n",
       "22 16         Up with People                                                  \n",
       "23 15         The Human Jukebox                                               \n",
       "24 15         Helen O'Connell                                                 \n",
       "25 14         Up with People                                                  \n",
       "26 14         Grambling State University Tiger Marching Band                  \n",
       "27 13         Ken Hamilton                                                    \n",
       "28 13         Gramacks                                                        \n",
       "29 12         Tyler Junior College Apache Band                                \n",
       "30 12         Pete Fountain                                                   \n",
       "31 12         Al Hirt                                                         \n",
       "32 11         Los Angeles Unified School District All City Honor Marching Band\n",
       "33 10         Up with People                                                  \n",
       "34  9         Mercer Ellington                                                \n",
       "35  9         Grambling State University Tiger Marching Band                  \n",
       "36  8         University of Texas Longhorn Band                               \n",
       "37  8         Judy Mallett                                                    \n",
       "38  7         University of Michigan Marching Band                            \n",
       "39  7         Woody Herman                                                    \n",
       "40  7         Andy Williams                                                   \n",
       "41  6         Ella Fitzgerald                                                 \n",
       "42  6         Carol Channing                                                  \n",
       "43  6         Al Hirt                                                         \n",
       "44  6         United States Air Force Academy Cadet Chorale                   \n",
       "45  5         Southeast Missouri State Marching Band                          \n",
       "46  4         Marguerite Piazza                                               \n",
       "47  4         Doc Severinsen                                                  \n",
       "48  4         Al Hirt                                                         \n",
       "49  4         The Human Jukebox                                               \n",
       "50  3         Florida A&M University Marching 100 Band                        \n",
       "51  2         Grambling State University Tiger Marching Band                  \n",
       "52  1         University of Arizona Symphonic Marching Band                   \n",
       "53  1         Grambling State University Tiger Marching Band                  \n",
       "54  1         Al Hirt                                                         \n",
       "   num_songs\n",
       "1   5       \n",
       "2   2       \n",
       "3  NA       \n",
       "4   2       \n",
       "5   1       \n",
       "6   1       \n",
       "7   1       \n",
       "8  NA       \n",
       "9  NA       \n",
       "10 NA       \n",
       "11  7       \n",
       "12  2       \n",
       "13 NA       \n",
       "14 NA       \n",
       "15  8       \n",
       "16  8       \n",
       "17 NA       \n",
       "18 NA       \n",
       "19  7       \n",
       "20  7       \n",
       "21 NA       \n",
       "22 NA       \n",
       "23 NA       \n",
       "24 NA       \n",
       "25 NA       \n",
       "26 NA       \n",
       "27 NA       \n",
       "28 NA       \n",
       "29 NA       \n",
       "30 NA       \n",
       "31 NA       \n",
       "32 NA       \n",
       "33 NA       \n",
       "34 NA       \n",
       "35 NA       \n",
       "36 NA       \n",
       "37 NA       \n",
       "38 NA       \n",
       "39 NA       \n",
       "40 NA       \n",
       "41 NA       \n",
       "42 NA       \n",
       "43 NA       \n",
       "44 NA       \n",
       "45 NA       \n",
       "46 NA       \n",
       "47 NA       \n",
       "48 NA       \n",
       "49 NA       \n",
       "50 NA       \n",
       "51 NA       \n",
       "52 NA       \n",
       "53 NA       \n",
       "54 NA       "
      ]
     },
     "metadata": {},
     "output_type": "display_data"
    }
   ],
   "source": [
    "# Filter and diplay halftime musicians before and including Super Bowl XXVII\n",
    "( pre_MJ  <- halftime_musicians  %>% \n",
    " filter(super_bowl <= 27) )"
   ]
  },
  {
   "cell_type": "markdown",
   "id": "19346173",
   "metadata": {},
   "source": [
    "## 8. Who has the most halftime show appearances?\n",
    "Now that's a lot of marching bands! There was also the American jazz clarinetist, Pete Fountain, and Miss Texas 1973 played the violin. Nothing against those performers - they are just simply not Beyoncé. To be fair, no one is.\n",
    "\n",
    "Let's find all the musicians who performed at the Super Bowl more than once and count their performances."
   ]
  },
  {
   "cell_type": "code",
   "execution_count": 8,
   "id": "4a3f3645",
   "metadata": {},
   "outputs": [
    {
     "data": {
      "text/html": [
       "<table>\n",
       "<thead><tr><th scope=col>musician</th><th scope=col>n</th></tr></thead>\n",
       "<tbody>\n",
       "\t<tr><td>Grambling State University Tiger Marching Band                  </td><td>6                                                               </td></tr>\n",
       "\t<tr><td>Al Hirt                                                         </td><td>4                                                               </td></tr>\n",
       "\t<tr><td>Up with People                                                  </td><td>4                                                               </td></tr>\n",
       "\t<tr><td>The Human Jukebox                                               </td><td>3                                                               </td></tr>\n",
       "\t<tr><td>Beyoncé                                                         </td><td>2                                                               </td></tr>\n",
       "\t<tr><td>Bruno Mars                                                      </td><td>2                                                               </td></tr>\n",
       "\t<tr><td><span style=white-space:pre-wrap>Florida A&amp;M University Marching 100 Band                        </span></td><td>2                                                                                                           </td></tr>\n",
       "\t<tr><td>Gloria Estefan                                                  </td><td>2                                                               </td></tr>\n",
       "\t<tr><td>Justin Timberlake                                               </td><td>2                                                               </td></tr>\n",
       "\t<tr><td>Los Angeles Unified School District All City Honor Marching Band</td><td>2                                                               </td></tr>\n",
       "\t<tr><td>Nelly                                                           </td><td>2                                                               </td></tr>\n",
       "\t<tr><td>Pete Fountain                                                   </td><td>2                                                               </td></tr>\n",
       "\t<tr><td>Spirit of Troy                                                  </td><td>2                                                               </td></tr>\n",
       "\t<tr><td>University of Minnesota Marching Band                           </td><td>2                                                               </td></tr>\n",
       "</tbody>\n",
       "</table>\n"
      ],
      "text/latex": [
       "\\begin{tabular}{r|ll}\n",
       " musician & n\\\\\n",
       "\\hline\n",
       "\t Grambling State University Tiger Marching Band                   & 6                                                               \\\\\n",
       "\t Al Hirt                                                          & 4                                                               \\\\\n",
       "\t Up with People                                                   & 4                                                               \\\\\n",
       "\t The Human Jukebox                                                & 3                                                               \\\\\n",
       "\t Beyoncé                                                          & 2                                                               \\\\\n",
       "\t Bruno Mars                                                       & 2                                                               \\\\\n",
       "\t Florida A\\&M University Marching 100 Band                         & 2                                                                 \\\\\n",
       "\t Gloria Estefan                                                   & 2                                                               \\\\\n",
       "\t Justin Timberlake                                                & 2                                                               \\\\\n",
       "\t Los Angeles Unified School District All City Honor Marching Band & 2                                                               \\\\\n",
       "\t Nelly                                                            & 2                                                               \\\\\n",
       "\t Pete Fountain                                                    & 2                                                               \\\\\n",
       "\t Spirit of Troy                                                   & 2                                                               \\\\\n",
       "\t University of Minnesota Marching Band                            & 2                                                               \\\\\n",
       "\\end{tabular}\n"
      ],
      "text/markdown": [
       "\n",
       "| musician | n |\n",
       "|---|---|\n",
       "| Grambling State University Tiger Marching Band                   | 6                                                                |\n",
       "| Al Hirt                                                          | 4                                                                |\n",
       "| Up with People                                                   | 4                                                                |\n",
       "| The Human Jukebox                                                | 3                                                                |\n",
       "| Beyoncé                                                          | 2                                                                |\n",
       "| Bruno Mars                                                       | 2                                                                |\n",
       "| Florida A&M University Marching 100 Band                         | 2                                                                |\n",
       "| Gloria Estefan                                                   | 2                                                                |\n",
       "| Justin Timberlake                                                | 2                                                                |\n",
       "| Los Angeles Unified School District All City Honor Marching Band | 2                                                                |\n",
       "| Nelly                                                            | 2                                                                |\n",
       "| Pete Fountain                                                    | 2                                                                |\n",
       "| Spirit of Troy                                                   | 2                                                                |\n",
       "| University of Minnesota Marching Band                            | 2                                                                |\n",
       "\n"
      ],
      "text/plain": [
       "   musician                                                         n\n",
       "1  Grambling State University Tiger Marching Band                   6\n",
       "2  Al Hirt                                                          4\n",
       "3  Up with People                                                   4\n",
       "4  The Human Jukebox                                                3\n",
       "5  Beyoncé                                                          2\n",
       "6  Bruno Mars                                                       2\n",
       "7  Florida A&M University Marching 100 Band                         2\n",
       "8  Gloria Estefan                                                   2\n",
       "9  Justin Timberlake                                                2\n",
       "10 Los Angeles Unified School District All City Honor Marching Band 2\n",
       "11 Nelly                                                            2\n",
       "12 Pete Fountain                                                    2\n",
       "13 Spirit of Troy                                                   2\n",
       "14 University of Minnesota Marching Band                            2"
      ]
     },
     "metadata": {},
     "output_type": "display_data"
    }
   ],
   "source": [
    "# Display the musicians who performed more than once\n",
    "halftime_musicians  %>% \n",
    "    count(musician, sort = TRUE)  %>% \n",
    "    filter(n > 1) "
   ]
  },
  {
   "cell_type": "markdown",
   "id": "d95ca07c",
   "metadata": {},
   "source": [
    "## 9. Who performed the most songs in a halftime show?\n",
    "The world-famous Grambling State University Tiger Marching Band takes the crown with six appearances. Beyoncé, Justin Timberlake, Nelly, and Bruno Mars are the only post-Y2K musicians with multiple appearances (two each).\n",
    "\n",
    "Now let's look at the number of songs performed in a halftime show. From our previous inspections, the num_songs column has a lot of missing values:\n",
    "\n",
    "A lot of the marching bands don't have num_songs entries.\n",
    "For non-marching bands, there is a lot of missing data before Super Bowl XX.\n",
    "Let's filter out marching bands by using a string match for \"Marching\" and \"Spirit\" (a common naming convention for marching bands is \"Spirit of [something]\"). We'll only keep data from Super Bowls XX and later to address the missing data issue, and then let's see who performed the most number of songs."
   ]
  },
  {
   "cell_type": "code",
   "execution_count": 9,
   "id": "26ca767f",
   "metadata": {},
   "outputs": [
    {
     "name": "stderr",
     "output_type": "stream",
     "text": [
      "Warning message:\n",
      "\"Removed 2 rows containing non-finite values (stat_bin).\""
     ]
    },
    {
     "data": {
      "text/html": [
       "<table>\n",
       "<thead><tr><th scope=col>super_bowl</th><th scope=col>musician</th><th scope=col>num_songs</th></tr></thead>\n",
       "<tbody>\n",
       "\t<tr><td>52                 </td><td>Justin Timberlake  </td><td>11                 </td></tr>\n",
       "\t<tr><td>30                 </td><td>Diana Ross         </td><td>10                 </td></tr>\n",
       "\t<tr><td>49                 </td><td>Katy Perry         </td><td> 8                 </td></tr>\n",
       "\t<tr><td>51                 </td><td>Lady Gaga          </td><td> 7                 </td></tr>\n",
       "\t<tr><td>47                 </td><td>Beyoncé            </td><td> 7                 </td></tr>\n",
       "\t<tr><td>41                 </td><td>Prince             </td><td> 7                 </td></tr>\n",
       "\t<tr><td>23                 </td><td>Elvis Presto       </td><td> 7                 </td></tr>\n",
       "\t<tr><td>50                 </td><td>Coldplay           </td><td> 6                 </td></tr>\n",
       "\t<tr><td>48                 </td><td>Bruno Mars         </td><td> 6                 </td></tr>\n",
       "\t<tr><td>45                 </td><td>The Black Eyed Peas</td><td> 6                 </td></tr>\n",
       "\t<tr><td>46                 </td><td>Madonna            </td><td> 5                 </td></tr>\n",
       "\t<tr><td>44                 </td><td>The Who            </td><td> 5                 </td></tr>\n",
       "\t<tr><td>27                 </td><td>Michael Jackson    </td><td> 5                 </td></tr>\n",
       "</tbody>\n",
       "</table>\n"
      ],
      "text/latex": [
       "\\begin{tabular}{r|lll}\n",
       " super\\_bowl & musician & num\\_songs\\\\\n",
       "\\hline\n",
       "\t 52                  & Justin Timberlake   & 11                 \\\\\n",
       "\t 30                  & Diana Ross          & 10                 \\\\\n",
       "\t 49                  & Katy Perry          &  8                 \\\\\n",
       "\t 51                  & Lady Gaga           &  7                 \\\\\n",
       "\t 47                  & Beyoncé             &  7                 \\\\\n",
       "\t 41                  & Prince              &  7                 \\\\\n",
       "\t 23                  & Elvis Presto        &  7                 \\\\\n",
       "\t 50                  & Coldplay            &  6                 \\\\\n",
       "\t 48                  & Bruno Mars          &  6                 \\\\\n",
       "\t 45                  & The Black Eyed Peas &  6                 \\\\\n",
       "\t 46                  & Madonna             &  5                 \\\\\n",
       "\t 44                  & The Who             &  5                 \\\\\n",
       "\t 27                  & Michael Jackson     &  5                 \\\\\n",
       "\\end{tabular}\n"
      ],
      "text/markdown": [
       "\n",
       "| super_bowl | musician | num_songs |\n",
       "|---|---|---|\n",
       "| 52                  | Justin Timberlake   | 11                  |\n",
       "| 30                  | Diana Ross          | 10                  |\n",
       "| 49                  | Katy Perry          |  8                  |\n",
       "| 51                  | Lady Gaga           |  7                  |\n",
       "| 47                  | Beyoncé             |  7                  |\n",
       "| 41                  | Prince              |  7                  |\n",
       "| 23                  | Elvis Presto        |  7                  |\n",
       "| 50                  | Coldplay            |  6                  |\n",
       "| 48                  | Bruno Mars          |  6                  |\n",
       "| 45                  | The Black Eyed Peas |  6                  |\n",
       "| 46                  | Madonna             |  5                  |\n",
       "| 44                  | The Who             |  5                  |\n",
       "| 27                  | Michael Jackson     |  5                  |\n",
       "\n"
      ],
      "text/plain": [
       "   super_bowl musician            num_songs\n",
       "1  52         Justin Timberlake   11       \n",
       "2  30         Diana Ross          10       \n",
       "3  49         Katy Perry           8       \n",
       "4  51         Lady Gaga            7       \n",
       "5  47         Beyoncé              7       \n",
       "6  41         Prince               7       \n",
       "7  23         Elvis Presto         7       \n",
       "8  50         Coldplay             6       \n",
       "9  48         Bruno Mars           6       \n",
       "10 45         The Black Eyed Peas  6       \n",
       "11 46         Madonna              5       \n",
       "12 44         The Who              5       \n",
       "13 27         Michael Jackson      5       "
      ]
     },
     "metadata": {},
     "output_type": "display_data"
    },
    {
     "data": {
      "image/png": "[encoded data removed]",
      "text/plain": [
       "plot without title"
      ]
     },
     "metadata": {},
     "output_type": "display_data"
    }
   ],
   "source": [
    "# Remove marching bands and data before Super Bowl XX\n",
    "musicians_songs  <- halftime_musicians  %>% \n",
    "    filter(!str_detect(musician, \"Marching\"),\n",
    "           !str_detect(musician, \"Spirit\"),\n",
    "          super_bowl > 20)\n",
    "\n",
    "# Plot a histogram of the number of songs per performance\n",
    "ggplot(musicians_songs, aes(num_songs)) + \n",
    "    geom_histogram(binwidth = 1) +\n",
    "    labs(x = \"Number of songs per halftime show\", y = \"Number of musicians\")\n",
    "\n",
    "# Display the musicians with more than four songs per show\n",
    "musicians_songs  %>% \n",
    "    filter(num_songs > 4)  %>% \n",
    "    arrange(desc(num_songs))"
   ]
  },
  {
   "cell_type": "markdown",
   "id": "fc7c7338",
   "metadata": {},
   "source": [
    "## 10. Conclusion\n",
    "Most non-band musicians do 1 to 3 songs per halftime show. It's important to note that the duration of the halftime show is fixed (roughly 12 minutes) so songs per performance is more a measure of how many hit songs you have (cram as many hit songs in as you can!). Timberlake went off in 2018 with 11 songs! Wow! Diana Ross comes in second with a ten song medley in 1996.\n",
    "\n",
    "In this notebook, we loaded, cleaned, and explored Super Bowl game, television, and halftime show data. We visualized the distributions of combined points, point differences, and halftime show performances using histograms. We used line plots to see how advertisement cost increases lagged behind viewership increases. And, we discovered that blowouts appear to lead to a drop in viewership."
   ]
  },
  {
   "cell_type": "code",
   "execution_count": 11,
   "id": "f06d5037",
   "metadata": {},
   "outputs": [
    {
     "data": {
      "text/html": [
       "<ol class=list-inline>\n",
       "\t<li>'The winner of Super Bowl LIII will be the New England Patriots'</li>\n",
       "\t<li>'The winner of Super Bowl LIII will be the Los Angeles Rams'</li>\n",
       "</ol>\n"
      ],
      "text/latex": [
       "\\begin{enumerate*}\n",
       "\\item 'The winner of Super Bowl LIII will be the New England Patriots'\n",
       "\\item 'The winner of Super Bowl LIII will be the Los Angeles Rams'\n",
       "\\end{enumerate*}\n"
      ],
      "text/markdown": [
       "1. 'The winner of Super Bowl LIII will be the New England Patriots'\n",
       "2. 'The winner of Super Bowl LIII will be the Los Angeles Rams'\n",
       "\n",
       "\n"
      ],
      "text/plain": [
       "[1] \"The winner of Super Bowl LIII will be the New England Patriots\"\n",
       "[2] \"The winner of Super Bowl LIII will be the Los Angeles Rams\"    "
      ]
     },
     "metadata": {},
     "output_type": "display_data"
    }
   ],
   "source": [
    "# 2018-2019 conference champions\n",
    "patriots <-  \"New England Patriots\"\n",
    "rams  <- \"Los Angeles Rams\"\n",
    "\n",
    "# Who will win Super Bowl LIII?\n",
    "super_bowl_LIII_winner  <-  c(patriots, rams)\n",
    "paste(\"The winner of Super Bowl LIII will be the\", super_bowl_LIII_winner)"
   ]
  },
  {
   "cell_type": "code",
   "execution_count": null,
   "id": "a84f9313",
   "metadata": {},
   "outputs": [],
   "source": []
  }
 ],
 "metadata": {
  "kernelspec": {
   "display_name": "R",
   "language": "R",
   "name": "ir"
  },
  "language_info": {
   "codemirror_mode": "r",
   "file_extension": ".r",
   "mimetype": "text/x-r-source",
   "name": "R",
   "pygments_lexer": "r",
   "version": "3.6.1"
  }
 },
 "nbformat": 4,
 "nbformat_minor": 5
}
